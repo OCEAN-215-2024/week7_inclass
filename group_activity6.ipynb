{
 "cells": [
  {
   "cell_type": "code",
   "execution_count": null,
   "metadata": {
    "tags": []
   },
   "outputs": [],
   "source": [
    "# Initialize Otter \n",
    "import otter\n",
    "grader = otter.Notebook(\"group_activity6.ipynb\")"
   ]
  },
  {
   "cell_type": "markdown",
   "metadata": {
    "id": "Rfoeeyjo9RDt"
   },
   "source": [
    "# In-class coding exercise #6\n",
    "Objective: In this exercise you will practice loading data from netCDF files using xarray, indexing and selecting data in DataSets, and mapping 2-D data using Cartopy.\n",
    "## Introduction to group coding exercises\n",
    "Today you’ll work on this exercise in the same groups of 3-4 you were assigned last week, submitting a single notebook file at the end of the class period. Decide amongst yourselves which member will upload the completed notebook to Gradescope this week. Make sure that everyone takes a turn being the “Uploader”. _You cannot upload the final code two weeks in a row._\n",
    "\n",
    "Designate a different group member to be the \"Reporter\". The Reporter will be in charge of participating in the group discussion at the end of the class session.\n",
    "\n",
    "### Workflow\n",
    "Each question will be timed to ensure that everyone gets to work on at least a part of every question. Group activities are not graded by completeness or correctness, but by effort. We will be breaking down each question in the following order:  \n",
    "1. Independent work \n",
    "2. Group work and discussion on coding question\n",
    "3. Group work and discussion on reflection questions\n",
    "\n",
    "You are welcome and encouraged to communicate with other groups and the teaching team when you feel stuck on a problem. \n",
    "\n",
    "As a reminder, we will be grading based best practices in coding. These include: \n",
    "1) Variables are used to store objects\n",
    "\n",
    "2) Code is commented adequately\n",
    "\n",
    "3) Variables are names appropriately\n",
    "\n",
    "4) Code is efficient with minimal unnecessary lines \n",
    "\n",
    "5) Documenting help from outside sources, such as from other groups or online documentation. \n",
    "\n",
    "6) Final notebook fully runs from start to finish. A good way to check this is restarting the kernel and fully running through all the cells to check for any errors.\n",
    "\n",
    "### Storing your answers\n",
    "In the code cells where you will write your answers, there will be comments denoting:\n",
    "\n",
    "\"**# your code**\"\n",
    "\n",
    "and \n",
    "\n",
    "\"**# answer variables**\"\n",
    "\n",
    "You may store any intermediary variables in the **your code** section. If you do not have any intermediary, you can also store your answer directly in the answer variables.\n",
    "\n",
    "### Required Plot Elements for Figures\n",
    "This assignments requires you to create and design figures using `matplotlib`. To practice good plotting practices, each figure will require the following to receive full points:\n",
    "1) Concise, descriptive title for each figure/subplot\n",
    "2) Axis labels with units (when possible)\n",
    "3) Appropriate axis limits (minimum and maximum)\n",
    "4) Appropriate tick resolution\n",
    "5) Legend when using different datasets \n",
    "6) Appropriate font size (a good range is 12-15)"
   ]
  },
  {
   "cell_type": "markdown",
   "metadata": {},
   "source": [
    "## Note here **and in the Gradescope submission** each of your group members:\n",
    "1.\n",
    "2. \n",
    "3."
   ]
  },
  {
   "cell_type": "markdown",
   "metadata": {
    "deletable": false,
    "editable": false
   },
   "source": [
    "<!-- BEGIN QUESTION -->\n",
    "\n",
    "# Q1: Exploring features of Cartopy (15 minutes)\n",
    "\n",
    "Check out this [link](https://scitools.org.uk/cartopy/docs/v0.15/crs/projections.html) to find the cartopy mapping projections and answer the following questions in the text box below.\n",
    "\n",
    "> 1) How many projections are available in cartopy?\n",
    "\n",
    "> 2) What is the projection with a non-zero central_longitude default value?\n",
    "\n",
    "> 3) Which two projections have the poles in the center of the map?\n",
    "\n",
    "> 4) Which of these projections have you seen? Where? What purpose were they serving? "
   ]
  },
  {
   "cell_type": "markdown",
   "metadata": {},
   "source": [
    "_Type your answer here, replacing this text._"
   ]
  },
  {
   "cell_type": "markdown",
   "metadata": {
    "deletable": false,
    "editable": false,
    "id": "itUE6h2w-YZR"
   },
   "source": [
    "<!-- END QUESTION -->\n",
    "\n",
    "<!-- BEGIN QUESTION -->\n",
    "\n",
    "# Q2: Chlorophyll and Nitrate from Mercator-Pisces Biogeochemistry Model (7 points)\n",
    "\n",
    "We will be accessing gridded data from a European global biogeochemical model.\n",
    "\n",
    "\"Produced by Mercator Ocean in Toulouse, France, is a global Ocean Biogeochemical analysis product at 1/2°. It is providing a 7-days mean global forecast updated weekly as well as 3D global ocean biogeochemical weekly mean analysis for the past 2 years updated every week. This product includes weekly mean files of dissolved iron, **nitrate**, phosphate, silicate, dissolved oxygen, **chlorophyll concentration**, phytoplankton concentration and primary production parameters from the top to the bottom of the Global Ocean on a 1/2° regular grid projection interpolated from the 1/4° ARAKAWA-C native grid. Vertical coverage includes 50 levels ranging from 0 to 5500 meters.\" \n",
    "\n",
    "[Source](http://marine.copernicus.eu)\n",
    "\n",
    "## Part 1 (15 minutes):\n",
    "\n",
    "For this part, we will read in our data using the `pycmap` library and an API key.\n",
    "\n",
    "## Instructions\n",
    "_**Don't forget to print your answer variables for each part!**_\n",
    "1) Using the starter code, fill in the `key` variable with your own API key from CMAP. If you haven't already generated an API key, create one [here](https://simonscmap.com/apikeymanagement). \n",
    "\n",
    "*This may take up to a few minutes to run since we are loading large files. Make sure to keep your code to Part 1 separated from Parts 2-4, so you are not running it over and over again.\n",
    "\n",
    "2) Read the rest of the code and comments to understand how the data is transformed into an `xarray dataset`.\n",
    "\n",
    "3) In a comment below the starter code, explain what we are doing to the data when we are selecting for the first index of depth in the `chl` variable. What happens to the dimensions? Next, what happens when you take the average (\"mean\") across time? Describe some assumptions you are making with this type of averaging. (4-5 sentences)"
   ]
  },
  {
   "cell_type": "code",
   "execution_count": null,
   "metadata": {
    "deletable": false,
    "editable": false,
    "tags": []
   },
   "outputs": [],
   "source": [
    "# Import packages\n",
    "import numpy as np\n",
    "import pandas as pd\n",
    "import xarray as xr\n",
    "import matplotlib.pyplot as plt\n",
    "import pycmap\n",
    "\n",
    "import cartopy.crs as ccrs\n",
    "import cartopy.feature as cfeature\n",
    "from cartopy.mpl.gridliner import LONGITUDE_FORMATTER, LATITUDE_FORMATTER"
   ]
  },
  {
   "cell_type": "code",
   "execution_count": null,
   "metadata": {
    "tags": []
   },
   "outputs": [],
   "source": [
    "## STARTER CODE\n",
    "# access data via cmap\n",
    "#enter your personal API key from CMAP as a string below\n",
    "key = \"\"                     \n",
    "#call the CMAP API using your unique key\n",
    "api = pycmap.API(token=key)\n",
    "# call the API to pull data into a dataframe named pisces\n",
    "pisces=api.query(\n",
    "         '''\n",
    "         SELECT [time], lat, lon, depth, CHL, NO3 FROM tblPisces_NRT\n",
    "         WHERE \n",
    "         [time] BETWEEN '2016-06-01' AND '2016-06-15' AND \n",
    "         lat BETWEEN -90 AND 90 AND \n",
    "         lon BETWEEN -180 AND 180 AND\n",
    "         depth BETWEEN 0 AND 1\n",
    "         '''\n",
    "         ) \n",
    "# create a pandas dataframe and convert to xarray\n",
    "df_rows = pd.DataFrame(modis).set_index([\"time\",  \"lat\", \"lon\", \"depth\"])  # since this is a gridded data, it is useful to transorm from a table into an array \n",
    "ds = xr.Dataset.from_dataframe(df_rows)\n",
    "# select only depth index and average across time for chl and no3\n",
    "chl = ds['CHL'].isel(depth=0).mean('time')  # taking an average in time, once we have the data in xarray format\n",
    "no3 = ds['NO3'].isel(depth=0).mean('time')\n",
    "del pisces"
   ]
  },
  {
   "cell_type": "markdown",
   "metadata": {
    "deletable": false,
    "editable": false
   },
   "source": [
    "<!-- END QUESTION -->\n",
    "\n",
    "## Part 2: Make a Chlorophyll map (35-40 minutes)\n",
    "\n",
    "1) From your `chl` data array, assign the latitude, longitude, and chl values to the `lat`, `lon`, and `chl` variables, respectively. \n",
    "\n",
    "2) Using matplotlib.pyplot figure() and cartopy, make a global color map using the [pcolormesh](https://matplotlib.org/stable/api/_as_gen/matplotlib.pyplot.pcolormesh.html) function for chlorophyll \n",
    "\n",
    "*Revisit the live coding demo from 11/05 for help.* \n",
    "\n",
    "In addition to the required plot elements, maps should include:\n",
    "\n",
    ">a) A Robinson projection.\n",
    "\n",
    ">b) A color mapping that represents your data. Choose one from the [matplotlib API](https://matplotlib.org/stable/users/explain/colors/colormaps.html), such as 'Greens'\n",
    "\n",
    ">b) Coastline in black and resolution set to '110m' and land features in 'lemonchiffon'.\n",
    "\n",
    ">c) A colorbar with appropriate colormap limits for both maps, using the \"vmin\" and \"vmax\" arguments, and a label units.\n",
    "\n",
    "_HINT_: Try setting the \"norm\" argument in `pcolormesh()` to a [LogNorm](https://matplotlib.org/stable/api/_as_gen/matplotlib.colors.LogNorm.html) object to better distinguish between the colors!\n",
    "\n",
    ">d) Latitude and longitude gridlines.\n",
    "\n",
    "_HINT_: To get gridlines to show, you will need to plot them **after** you plot your data with `pcolormesh()`!"
   ]
  },
  {
   "cell_type": "code",
   "execution_count": null,
   "metadata": {
    "tags": []
   },
   "outputs": [],
   "source": [
    "from matplotlib.colors import LogNorm\n",
    "# your code\n",
    "\n",
    "# answer variables\n",
    "lat = \"\"\n",
    "lon = \"\"\n",
    "chl_vals = \"\"\n",
    "\n",
    "# your code to make your map\n"
   ]
  },
  {
   "cell_type": "code",
   "execution_count": null,
   "metadata": {
    "deletable": false,
    "editable": false
   },
   "outputs": [],
   "source": [
    "grader.check(\"Question 2, Part 2\")"
   ]
  },
  {
   "cell_type": "markdown",
   "metadata": {
    "deletable": false,
    "editable": false,
    "id": "D3bTT1ni_v2-"
   },
   "source": [
    "## Part 3: Make a Nitrate map (10 minutes)\n",
    "\n",
    "1) From your `no3` data array, assign the nitrate values to the `no3_vals` variable. \n",
    "\n",
    "2) Create a map for Nitrate as you have done for Chlorophyll and Part 2. You may copy/paste your code from above, but don't forget to change any labels or titles!\n",
    "\n",
    "3) Choose a different color mapping for Nitrate than what you had for Chlorophyll, and use a range of 0.01-10 for your \"vmin\" and \"vmax\" arguments. Try using the \"norm\" argument with LogNorm again here."
   ]
  },
  {
   "cell_type": "code",
   "execution_count": null,
   "metadata": {
    "tags": []
   },
   "outputs": [],
   "source": [
    "# your code\n",
    "\n",
    "# answer variables\n",
    "lat = \"\"\n",
    "lon = \"\"\n",
    "chl_vals = \"\"\n",
    "\n",
    "# your code to make your map\n"
   ]
  },
  {
   "cell_type": "code",
   "execution_count": null,
   "metadata": {
    "deletable": false,
    "editable": false
   },
   "outputs": [],
   "source": [
    "grader.check(\"Question 2, Part 3\")"
   ]
  },
  {
   "cell_type": "markdown",
   "metadata": {
    "deletable": false,
    "editable": false
   },
   "source": [
    "<!-- BEGIN QUESTION -->\n",
    "\n",
    "## Part 4: Create a contour maps with Chlorophyll and Nitrate\n",
    "\n",
    "Now, we'll focus on a specific region in North Pacific, called the Transition Zone. This area is known for its sharp change in biogeochemical properties as it borders the N. Pacific subtropical and subpolar gyres. \n",
    "\n",
    "### Instructions\n",
    "1) Run the starter code code to query data from CMAP for the North Pacific Transition Zone. Notice how the latitude, longitude, and depth ranges have changed from Part 1. \n",
    "\n",
    "2) Briefly describe how the `chl_depth` and `no3_depth` variables are being averaged here. Which dimensions are we aggregating, and what kind of assumptions are being made? Write your answer in a comment below the starter code (2-3 sentences). \n",
    "\n",
    "3) Store the latitude and depth values in the `lat` and `depth` answer variables.\n",
    "\n",
    "4) Create a contour plot using `matplotlib contourf()` for Chlorphyll. Your x-axis should reprersent latitude, and your y-axis depth. You will need to tranpose your `chl_depth` variable (see demo from Week 6 on how to do this) to create your plot. Add the following to your plot:\n",
    "    - Appropriate number of levels\n",
    "    - A meaningful color map\n",
    "    - Color bar with appropriate limits and label with units\n",
    "    - Inverted y-axis (0 should be at the top)\n",
    "    - Axis labels and Title\n",
    "\n",
    "5) Add conntour lines using `matplotlib contour()` for **Nitrate**. Your plot should include:\n",
    "    - Contour lines with color black\n",
    "    - Appropriate number of levels between contour lines\n",
    "    - Contour line labels (`clabel()` function) with appropriate number of levels between text\n",
    "    \n",
    "6) Describe how chlorophyll and nitrate are changing with respect to latitude and depth. Why do you think this is? How do you think nitrate and chlorophyll are affected by each other? Write your answer in a comment below your code (3-4 sentences)."
   ]
  },
  {
   "cell_type": "code",
   "execution_count": null,
   "metadata": {
    "tags": []
   },
   "outputs": [],
   "source": [
    "## starter code\n",
    "# query to make depth profile\n",
    "pisces_tz=api.query(\n",
    "         '''\n",
    "         SELECT [time], lat, lon, depth, CHL, NO3 FROM tblPisces_NRT\n",
    "         WHERE \n",
    "         [time] BETWEEN '2016-06-01' AND '2016-06-15' AND \n",
    "         lat BETWEEN 15 AND 50 AND \n",
    "         lon BETWEEN -150 AND -130 AND\n",
    "         depth BETWEEN 0 AND 400\n",
    "         '''\n",
    "         ) \n",
    "df_rows_tz = pd.DataFrame(pisces2).set_index([\"time\",  \"lat\", \"lon\", \"depth\"])  # since this is a gridded data, it is useful to transorm from a table into an array \n",
    "ds_tz = xr.Dataset.from_dataframe(df_rows2)\n",
    "# take means along time and longitude to create depth profiles along latitude\n",
    "chl_depth = ds2['CHL'].mean(['time', 'lon'])\n",
    "no3_depth = ds2['NO3'].mean(['time', 'lon'])"
   ]
  },
  {
   "cell_type": "code",
   "execution_count": null,
   "metadata": {
    "tags": []
   },
   "outputs": [],
   "source": [
    "# answer variables\n",
    "lat = \"\"\n",
    "depth = \"\"\n",
    "\n",
    "# your code to plot\n"
   ]
  },
  {
   "cell_type": "markdown",
   "metadata": {
    "deletable": false,
    "editable": false,
    "id": "emian14mjx5N"
   },
   "source": [
    "<!-- END QUESTION -->\n",
    "\n",
    "<!-- BEGIN QUESTION -->\n",
    "\n",
    "# Reflection questions (5 minutes)\n",
    "The purpose of the reflection is to inform us as instructors about students comfort level with course content. We use these answers to inform how we spend class time and design coursework in subsequent weeks. This question is graded for completeness, so please answer each question in the text box below. Be concise in your answers (max. 2 sentences). \n",
    "\n",
    "1) What do you feel you excelled at in this exercise? Why?\n",
    "\n",
    "2) What did you struggle with most in the exercise? Why?\n",
    "\n",
    "3) Is there any section of the question that you did not complete? If so, briefly describe why and the section you spent the most time on. \n",
    "\n",
    "4) Is there any topic you feel we need to revisit or review in class? Why?"
   ]
  },
  {
   "cell_type": "markdown",
   "metadata": {},
   "source": [
    "_Type your answer here, replacing this text._"
   ]
  },
  {
   "cell_type": "markdown",
   "metadata": {
    "deletable": false,
    "editable": false
   },
   "source": [
    "<!-- END QUESTION -->\n",
    "\n"
   ]
  },
  {
   "cell_type": "markdown",
   "metadata": {
    "deletable": false,
    "editable": false
   },
   "source": [
    "---\n",
    "\n",
    "To double-check your work, the cell below will rerun all of the autograder tests."
   ]
  },
  {
   "cell_type": "code",
   "execution_count": null,
   "metadata": {
    "deletable": false,
    "editable": false
   },
   "outputs": [],
   "source": [
    "grader.check_all()"
   ]
  }
 ],
 "metadata": {
  "colab": {
   "authorship_tag": "ABX9TyNVGaB4aIB1+xdhx/IP4JXh",
   "collapsed_sections": [],
   "provenance": []
  },
  "kernelspec": {
   "display_name": "Python 3 (ipykernel)",
   "language": "python",
   "name": "python3"
  },
  "language_info": {
   "codemirror_mode": {
    "name": "ipython",
    "version": 3
   },
   "file_extension": ".py",
   "mimetype": "text/x-python",
   "name": "python",
   "nbconvert_exporter": "python",
   "pygments_lexer": "ipython3",
   "version": "3.10.10"
  },
  "otter": {
   "OK_FORMAT": true,
   "tests": {
    "Question 2, Part 2": {
     "name": "Question 2, Part 2",
     "points": 0,
     "suites": [
      {
       "cases": [
        {
         "code": ">>> # Part 1: check data_vars\n>>> len(lat) == 359\nTrue",
         "failure_message": "Check lat variable!",
         "hidden": false,
         "locked": false,
         "points": 0
        },
        {
         "code": ">>> # Part 1: check data_vars\n>>> len(lon) == 720\nTrue",
         "failure_message": "Check lat variable!",
         "hidden": false,
         "locked": false,
         "points": 0
        },
        {
         "code": ">>> # Part 1: check data_vars\n>>> chl_vals.shape == (359, 720)\nTrue",
         "failure_message": "Check lat variable!",
         "hidden": false,
         "locked": false,
         "points": 0
        }
       ],
       "scored": true,
       "setup": "",
       "teardown": "",
       "type": "doctest"
      }
     ]
    },
    "Question 2, Part 3": {
     "name": "Question 2, Part 3",
     "points": 0,
     "suites": [
      {
       "cases": [
        {
         "code": ">>> # Part 3\n>>> no3_vals.shape == (359, 720)\nTrue",
         "failure_message": "Check no3_vals variable!",
         "hidden": false,
         "locked": false,
         "points": 0
        }
       ],
       "scored": true,
       "setup": "",
       "teardown": "",
       "type": "doctest"
      }
     ]
    }
   }
  }
 },
 "nbformat": 4,
 "nbformat_minor": 4
}
